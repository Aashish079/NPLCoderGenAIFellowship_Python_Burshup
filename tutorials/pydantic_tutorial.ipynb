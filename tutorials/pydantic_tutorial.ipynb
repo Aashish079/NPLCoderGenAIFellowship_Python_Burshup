{
 "cells": [
  {
   "cell_type": "markdown",
   "metadata": {},
   "source": [
    "## Pydantic: Data Validation and Settings Management\n",
    "\n",
    "Pydantic is a powerful library for data validation and settings management using Python type annotations. It enforces type hints at runtime, and provides user-friendly errors when data is invalid."
   ]
  },
  {
   "cell_type": "markdown",
   "metadata": {},
   "source": [
    "### Basic Usage"
   ]
  },
  {
   "cell_type": "code",
   "execution_count": null,
   "metadata": {},
   "outputs": [],
   "source": [
    "from pydantic import BaseModel\n",
    "from datetime import datetime\n",
    "\n",
    "class User(BaseModel):\n",
    "    id: int\n",
    "    name: str = 'John Doe'\n",
    "    signup_ts: datetime | None = None\n",
    "    friends: list[int] = []\n",
    "\n",
    "# Create a user instance\n",
    "user = User(id=123, name='Aashish', signup_ts='2024-06-28 12:00', friends=[1, 2, 3])\n",
    "\n",
    "# Print the user object\n",
    "print(user)\n",
    "\n",
    "# Print the JSON representation\n",
    "print(user.model_dump_json(indent=4))"
   ]
  },
  {
   "cell_type": "markdown",
   "metadata": {},
   "source": [
    "### Data Validation"
   ]
  },
  {
   "cell_type": "code",
   "execution_count": null,
   "metadata": {},
   "outputs": [],
   "source": [
    "from pydantic import ValidationError\n",
    "\n",
    "try:\n",
    "    User(id='not-an-int', name='Aashish', friends=[1, 'not-an-int'])\n",
    "except ValidationError as e:\n",
    "    print(e)"
   ]
  },
  {
   "cell_type": "markdown",
   "metadata": {},
   "source": [
    "### Nested Models"
   ]
  },
  {
   "cell_type": "code",
   "execution_count": null,
   "metadata": {},
   "outputs": [],
   "source": [
    "class Address(BaseModel):\n",
    "    street: str\n",
    "    city: str\n",
    "    zip_code: str\n",
    "\n",
    "class UserWithAddress(BaseModel):\n",
    "    id: int\n",
    "    name: str\n",
    "    address: Address\n",
    "\n",
    "address_data = {\"street\": \"123 Main St\", \"city\": \"Anytown\", \"zip_code\": \"12345\"}\n",
    "user_with_address = UserWithAddress(id=1, name=\"Aashish\", address=address_data)\n",
    "\n",
    "print(user_with_address)"
   ]
  }
 ],
 "metadata": {
  "kernelspec": {
   "display_name": "Python 3",
   "language": "python",
   "name": "python3"
  },
  "language_info": {
   "codemirror_mode": {
    "name": "ipython",
    "version": 3
   },
   "file_extension": ".py",
   "mimetype": "text/x-python",
   "name": "python",
   "nbconvert_exporter": "python",
   "pygments_lexer": "ipython3",
   "version": "3.10.10"
  }
 },
 "nbformat": 4,
 "nbformat_minor": 2
}