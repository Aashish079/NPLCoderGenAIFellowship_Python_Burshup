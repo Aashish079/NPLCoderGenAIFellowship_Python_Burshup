{
 "cells": [
  {
   "cell_type": "markdown",
   "metadata": {},
   "source": [
    "## Generators in Python\n",
    "\n",
    "Generators are a simple and powerful tool for creating iterators. They are written like regular functions but use the `yield` statement whenever they want to return data."
   ]
  },
  {
   "cell_type": "markdown",
   "metadata": {},
   "source": [
    "### Generator Functions"
   ]
  },
  {
   "cell_type": "code",
   "execution_count": null,
   "metadata": {},
   "outputs": [],
   "source": [
    "# A generator function that yields the square of numbers from 0 to n-1\n",
    "def square_generator(n):\n",
    "    for i in range(n):\n",
    "        yield i**2\n",
    "\n",
    "# Create a generator object\n",
    "squares = square_generator(5)\n",
    "\n",
    "# Iterate over the generator\n",
    "for square in squares:\n",
    "    print(square)"
   ]
  },
  {
   "cell_type": "markdown",
   "metadata": {},
   "source": [
    "### Generator Expressions"
   ]
  },
  {
   "cell_type": "code",
   "execution_count": null,
   "metadata": {},
   "outputs": [],
   "source": [
    "# A generator expression to create a generator for squares\n",
    "squares_expr = (x**2 for x in range(5))\n",
    "\n",
    "# Iterate over the generator expression\n",
    "for square in squares_expr:\n",
    "    print(square)"
   ]
  },
  {
   "cell_type": "markdown",
   "metadata": {},
   "source": [
    "### Why Use Generators?"
   ]
  },
  {
   "cell_type": "markdown",
   "metadata": {},
   "source": [
    "Generators are memory efficient. They don't store all the values in memory at once; they generate the values on the fly."
   ]
  },
  {
   "cell_type": "code",
   "execution_count": null,
   "metadata": {},
   "outputs": [],
   "source": [
    "import sys\n",
    "\n",
    "# List comprehension (stores all values in memory)\n",
    "my_list = [i for i in range(10000)]\n",
    "print(f\"Size of list: {sys.getsizeof(my_list)} bytes\")\n",
    "\n",
    "# Generator expression (generates values on the fly)\n",
    "my_gen = (i for i in range(10000))\n",
    "print(f\"Size of generator: {sys.getsizeof(my_gen)} bytes\")"
   ]
  }
 ],
 "metadata": {
  "kernelspec": {
   "display_name": "Python 3",
   "language": "python",
   "name": "python3"
  },
  "language_info": {
   "codemirror_mode": {
    "name": "ipython",
    "version": 3
   },
   "file_extension": ".py",
   "mimetype": "text/x-python",
   "name": "python",
   "nbconvert_exporter": "python",
   "pygments_lexer": "ipython3",
   "version": "3.10.10"
  }
 },
 "nbformat": 4,
 "nbformat_minor": 2
}