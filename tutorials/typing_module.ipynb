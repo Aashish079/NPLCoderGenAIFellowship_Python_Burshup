{
 "cells": [
  {
   "cell_type": "markdown",
   "metadata": {},
   "source": [
    "## The `typing` Module in Python\n",
    "\n",
    "The `typing` module provides runtime support for type hints. It helps in static analysis and makes the code more readable and maintainable."
   ]
  },
  {
   "cell_type": "markdown",
   "metadata": {},
   "source": [
    "### Basic Type Hinting"
   ]
  },
  {
   "cell_type": "code",
   "execution_count": null,
   "metadata": {},
   "outputs": [],
   "source": [
    "def greeting(name: str) -> str:\n",
    "    return 'Hello, ' + name\n",
    "\n",
    "print(greeting('World'))"
   ]
  },
  {
   "cell_type": "markdown",
   "metadata": {},
   "source": [
    "### Type Hinting for Collections"
   ]
  },
  {
   "cell_type": "code",
   "execution_count": null,
   "metadata": {},
   "outputs": [],
   "source": [
    "from typing import List, Tuple, Dict, Set\n",
    "\n",
    "def process_data(names: List[str], ages: Tuple[int, ...], scores: Dict[str, float], unique_ids: Set[int]) -> None:\n",
    "    print(f\"Names: {names}\")\n",
    "    print(f\"Ages: {ages}\")\n",
    "    print(f\"Scores: {scores}\")\n",
    "    print(f\"Unique IDs: {unique_ids}\")\n",
    "\n",
    "process_data([\"Alice\", \"Bob\"], (25, 30), {\"Alice\": 95.5, \"Bob\": 89.0}, {101, 102})"
   ]
  },
  {
   "cell_type": "markdown",
   "metadata": {},
   "source": [
    "### `Optional` and `Union`"
   ]
  },
  {
   "cell_type": "code",
   "execution_count": null,
   "metadata": {},
   "outputs": [],
   "source": [
    "from typing import Optional, Union\n",
    "\n",
    "def find_user(user_id: int) -> Optional[str]:\n",
    "    if user_id == 1:\n",
    "        return \"Alice\"\n",
    "    return None\n",
    "\n",
    "def process_item(item: Union[int, str]) -> None:\n",
    "    print(f\"Processing item: {item}\")\n",
    "\n",
    "print(find_user(1))\n",
    "print(find_user(2))\n",
    "process_item(123)\n",
    "process_item(\"hello\")"
   ]
  }
 ],
 "metadata": {
  "kernelspec": {
   "display_name": "Python 3",
   "language": "python",
   "name": "python3"
  },
  "language_info": {
   "codemirror_mode": {
    "name": "ipython",
    "version": 3
   },
   "file_extension": ".py",
   "mimetype": "text/x-python",
   "name": "python",
   "nbconvert_exporter": "python",
   "pygments_lexer": "ipython3",
   "version": "3.10.10"
  }
 },
 "nbformat": 4,
 "nbformat_minor": 2
}